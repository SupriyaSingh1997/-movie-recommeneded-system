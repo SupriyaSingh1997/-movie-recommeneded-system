{
 "cells": [
  {
   "cell_type": "code",
   "execution_count": null,
   "id": "f6f5036c",
   "metadata": {},
   "outputs": [],
   "source": [
    "import streamlit as st\n",
    "import pickle\n",
    "import pandas as pd\n",
    "import requests\n",
    "\n",
    "def fetch_poster(movie_id):\n",
    "    response = requests.get('https://api.themoviedb.org/3/movie/{}?api_key=d1c8355e6dd33be245bff2c7eeb9f8ff&language=en-US'.format(movie_id))\n",
    "    data = response.json()\n",
    "    return \"http://image.tmdb.org/t/p/w185/\" + data['poster_path']\n",
    "\n",
    "\n",
    "def recommend(movie):\n",
    "    movie_index = movies[movies['title'] == movie].index[0]\n",
    "    distances = similarity[movie_index]\n",
    "    movies_list = sorted(list(enumerate(distances)), reverse=True, key=lambda x: x[1])[1:6]\n",
    "\n",
    "    recommended_movies = []\n",
    "    recommended_movies_s_posters = []\n",
    "    for i in movies_list:\n",
    "        movie_id = movies.iloc[i[0]].movie_id\n",
    "        recommended_movies.append(movies.iloc[i[0]].title)\n",
    "        recommended_movieposters.append(fetch_poster(movie_id))\n",
    "    return recommended_movies,recommended_movies_posters\n",
    "\n",
    "movies_dict = pickle.load(open('movie_dict.pkl','rb'))\n",
    "movies = pd.DataFrame(movies_dict)\n",
    "similarity = pickle.load(open('similarity.pkl','rb'))\n",
    "\n",
    "st.title('Movie Recommender System')\n",
    "\n",
    "selected_movie_name = st. selectbox(\n",
    "'How would you like to selected?',\n",
    "movies['title'].values)\n",
    "\n",
    "\n",
    "if st.button('Recommend'):\n",
    "    names,posters = recommend(selected_movie_name)\n",
    "\n",
    "    col1,col2,col3,col4,col5 = st.columns(5)\n",
    "    with col1:\n",
    "        st.header(names[0])\n",
    "        st.image(posters[0])\n",
    "    with col2:\n",
    "        st.header(names[1])\n",
    "        st.image(posters[1])\n",
    "    with col3:\n",
    "        st.header(names[2])\n",
    "        st.image(posters[2])\n",
    "    with col4:\n",
    "        st.header(names[3])\n",
    "        st.image(posters[3])\n",
    "    with col5:\n",
    "        st.header(names[4])\n",
    "        st.image(posters[4])\n"
   ]
  }
 ],
 "metadata": {
  "kernelspec": {
   "display_name": "Python 3 (ipykernel)",
   "language": "python",
   "name": "python3"
  },
  "language_info": {
   "codemirror_mode": {
    "name": "ipython",
    "version": 3
   },
   "file_extension": ".py",
   "mimetype": "text/x-python",
   "name": "python",
   "nbconvert_exporter": "python",
   "pygments_lexer": "ipython3",
   "version": "3.10.9"
  }
 },
 "nbformat": 4,
 "nbformat_minor": 5
}
