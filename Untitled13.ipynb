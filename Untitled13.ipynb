{
  "nbformat": 4,
  "nbformat_minor": 0,
  "metadata": {
    "colab": {
      "provenance": [],
      "authorship_tag": "ABX9TyPJ7727kx8Hr/VQzXB3WJRj",
      "include_colab_link": true
    },
    "kernelspec": {
      "name": "python3",
      "display_name": "Python 3"
    },
    "language_info": {
      "name": "python"
    }
  },
  "cells": [
    {
      "cell_type": "markdown",
      "metadata": {
        "id": "view-in-github",
        "colab_type": "text"
      },
      "source": [
        "<a href=\"https://colab.research.google.com/github/SupriyaSingh1997/-movie-recommeneded-system/blob/master/Untitled13.ipynb\" target=\"_parent\"><img src=\"https://colab.research.google.com/assets/colab-badge.svg\" alt=\"Open In Colab\"/></a>"
      ]
    },
    {
      "cell_type": "code",
      "execution_count": null,
      "metadata": {
        "id": "UJhxKEUEUjwG",
        "outputId": "2a8e8db3-f528-46c0-f97a-d9da9bcf0f5f",
        "colab": {
          "base_uri": "https://localhost:8080/"
        }
      },
      "outputs": [
        {
          "output_type": "stream",
          "name": "stdout",
          "text": [
            "Roots of the quartic equation:\n",
            "0\n",
            "1.00000000000000\n",
            "2.00000000000000\n",
            "3.00000000000000\n"
          ]
        }
      ],
      "source": [
        "import sympy as sp\n",
        "\n",
        "# Define the symbol\n",
        "x = sp.symbols('x')\n",
        "\n",
        "# Define the quartic equation\n",
        "equation = x**4 - 6*x**3 + 11*x**2 - 6*x\n",
        "\n",
        "# Find the roots numerically using the Newton-Raphson method\n",
        "roots = sp.solve(equation, x)\n",
        "\n",
        "# Print the roots\n",
        "print(\"Roots of the quartic equation:\")\n",
        "for root in roots:\n",
        "    print(root.evalf())"
      ]
    },
    {
      "cell_type": "code",
      "source": [
        "class pwskills1 :\n",
        "    def __init__(self,phone_number, email_id,student_id):\n",
        "          self.phone_number = phone_number\n",
        "          self.email_id = email_id\n",
        "          self.student_id = student_id\n",
        "    def return_student_details(self):\n",
        "        return self.student_id,self.phone_number,self.email_id"
      ],
      "metadata": {
        "id": "5jui19l0Ukh4"
      },
      "execution_count": null,
      "outputs": []
    },
    {
      "cell_type": "code",
      "source": [
        "rohan = pwskills1(98756424,\"rohan@gmail.com\",234)"
      ],
      "metadata": {
        "id": "QWd9X5Jo3DYg"
      },
      "execution_count": null,
      "outputs": []
    },
    {
      "cell_type": "code",
      "source": [
        "class Vehicle:\n",
        "    def __init__(self, name, max_speed, average_speed):\n",
        "        self.name = name\n",
        "        self.max_speed = max_speed\n",
        "        self.average_speed = average_speed\n",
        "\n",
        "    def display_info(self):\n",
        "        return f\"Vehicle Name: {self.name}\\nMax Speed: {self.max_speed} km/h\\nAverage Speed: {self.average_speed} km/h\"\n",
        "class Car(Vehicle):\n",
        "    def __init__(self, name, max_speed, average_speed, seating_capacity):\n",
        "        # Call the constructor of the parent class (Vehicle)\n",
        "        super().__init__(name, max_speed, average_speed)\n",
        "        self.seating_capacity = seating_capacity\n",
        "\n",
        "    def seating_capacity_info(self):\n",
        "        return f\"Vehicle Name: {self.name}\\nSeating Capacity: {self.seating_capacity} passengers\""
      ],
      "metadata": {
        "id": "Qxz0MjZn3XXC"
      },
      "execution_count": null,
      "outputs": []
    },
    {
      "cell_type": "code",
      "source": [
        "my_car = Car(\"Toyota Camry\", 180, 45, 5)\n",
        "\n",
        "# Display car information\n",
        "print(my_car.display_info())\n",
        "print(my_car.seating_capacity_info())"
      ],
      "metadata": {
        "colab": {
          "base_uri": "https://localhost:8080/"
        },
        "id": "ixKDQ_SfM1IK",
        "outputId": "ca41cd7a-2211-4870-fb7a-8b1a2ed10bfe"
      },
      "execution_count": null,
      "outputs": [
        {
          "output_type": "stream",
          "name": "stdout",
          "text": [
            "Vehicle Name: Toyota Camry\n",
            "Max Speed: 180 km/h\n",
            "Average Speed: 45 km/h\n",
            "Vehicle Name: Toyota Camry\n",
            "Seating Capacity: 5 passengers\n"
          ]
        }
      ]
    },
    {
      "cell_type": "code",
      "source": [
        "kg = int(input(\"Enter kg here\"))\n",
        "if kg < 500:\n",
        "   print(\"i am ready to buy\")\n",
        "else:\n",
        "  print(\"i will not buy , its so expensive\")"
      ],
      "metadata": {
        "id": "5LGhyfgrNO0n",
        "colab": {
          "base_uri": "https://localhost:8080/"
        },
        "outputId": "ef925b6d-043a-4acd-eba0-765d936cd4b1"
      },
      "execution_count": null,
      "outputs": [
        {
          "output_type": "stream",
          "name": "stdout",
          "text": [
            "Enter kg here200\n",
            "i am ready to buy\n"
          ]
        }
      ]
    },
    {
      "cell_type": "code",
      "source": [
        "list1=[1,2,3,4,5]\n",
        "list2=[3,4,5,6,7,8]\n",
        "# make a empty list for save diff element\n",
        "diff=[]\n",
        "# user for loop for get one by one element of given list\n",
        "for i in list1:\n",
        "#which element same in two list append this element in diff list\n",
        "if i not in list2:\n",
        "diff.append(i)\n",
        "for m in list2:\n",
        "if m not in list1:\n",
        "diff.append(m)\n",
        "\n",
        "#print output\n",
        "print('The common element in this two list is: ',diff)"
      ],
      "metadata": {
        "id": "W9Fj739BqMqm",
        "colab": {
          "base_uri": "https://localhost:8080/",
          "height": 140
        },
        "outputId": "d5fe0e53-3f1d-43ee-8cbe-e6bb0649575e"
      },
      "execution_count": null,
      "outputs": [
        {
          "output_type": "error",
          "ename": "IndentationError",
          "evalue": "ignored",
          "traceback": [
            "\u001b[0;36m  File \u001b[0;32m\"<ipython-input-1-ba45c2be01be>\"\u001b[0;36m, line \u001b[0;32m8\u001b[0m\n\u001b[0;31m    if i not in list2:\u001b[0m\n\u001b[0m    ^\u001b[0m\n\u001b[0;31mIndentationError\u001b[0m\u001b[0;31m:\u001b[0m expected an indented block after 'for' statement on line 6\n"
          ]
        }
      ]
    },
    {
      "cell_type": "code",
      "source": [
        "list1 = [1, 2, 3, 4, 5]\n",
        "list2 = [3, 4, 5, 6, 7, 8]\n",
        "\n",
        "# Make an empty list to save different elements\n",
        "diff = []\n",
        "\n",
        "# Use a for loop to get one element at a time from the first list\n",
        "for i in list1:\n",
        "    # Check if the element is not in the second list, then append it to the diff list\n",
        "    if i not in list2:\n",
        "        diff.append(i)\n",
        "\n",
        "# Use another for loop to get one element at a time from the second list\n",
        "for m in list2:\n",
        "    # Check if the element is not in the first list, then append it to the diff list\n",
        "    if m not in list1:\n",
        "        diff.append(m)\n",
        "\n",
        "# Print the output\n",
        "print('The common elements in these two lists are:', diff)"
      ],
      "metadata": {
        "colab": {
          "base_uri": "https://localhost:8080/"
        },
        "id": "wiOqv6eflI9c",
        "outputId": "db9e1bb7-ca7b-42b2-c172-8138c6a5dac2"
      },
      "execution_count": null,
      "outputs": [
        {
          "output_type": "stream",
          "name": "stdout",
          "text": [
            "The common elements in these two lists are: [1, 2, 6, 7, 8]\n"
          ]
        }
      ]
    },
    {
      "cell_type": "code",
      "source": [
        "for number in range(1,100,10):\n",
        "    print(number)"
      ],
      "metadata": {
        "colab": {
          "base_uri": "https://localhost:8080/"
        },
        "id": "wA2l3la8lWvs",
        "outputId": "ad23b8d0-23a7-4fdc-8faf-22b861fb797b"
      },
      "execution_count": null,
      "outputs": [
        {
          "output_type": "stream",
          "name": "stdout",
          "text": [
            "1\n",
            "11\n",
            "21\n",
            "31\n",
            "41\n",
            "51\n",
            "61\n",
            "71\n",
            "81\n",
            "91\n"
          ]
        }
      ]
    },
    {
      "cell_type": "code",
      "source": [
        "numbers = [1, 2, 3, 4, 5]\n",
        "total = 0\n",
        "\n",
        "for num in numbers:\n",
        "    total += num\n",
        "\n",
        "print(\"The sum of numbers in the list is\", total)"
      ],
      "metadata": {
        "colab": {
          "base_uri": "https://localhost:8080/"
        },
        "id": "yx6eNz_IorIR",
        "outputId": "40c7d4e9-f4c4-44af-c618-1d9c2ed1d19a"
      },
      "execution_count": null,
      "outputs": [
        {
          "output_type": "stream",
          "name": "stdout",
          "text": [
            "The sum of numbers in the list is 15\n"
          ]
        }
      ]
    },
    {
      "cell_type": "code",
      "source": [
        "d = {\"name\" :\"sudh\" , \"class\" : \"data science master\", \"topic\":[\"python\", \"statics\", \"machine learning\",\"DL\", \"CV\",\"NLP\",\"resume\", \"interview\"]}\n",
        "for i in d.keys():\n",
        "  print(d[i])"
      ],
      "metadata": {
        "id": "aNHknSk2ouZc",
        "colab": {
          "base_uri": "https://localhost:8080/"
        },
        "outputId": "2fe77031-300f-4531-95e3-834f4a3a0d84"
      },
      "execution_count": 2,
      "outputs": [
        {
          "output_type": "stream",
          "name": "stdout",
          "text": [
            "sudh\n",
            "data science master\n",
            "['python', 'statics', 'machine learning', 'DL', 'CV', 'NLP', 'resume', 'interview']\n"
          ]
        }
      ]
    },
    {
      "cell_type": "code",
      "source": [
        "for i in d.keys():\n",
        "  print(i)"
      ],
      "metadata": {
        "colab": {
          "base_uri": "https://localhost:8080/"
        },
        "id": "ks7bG1dJV9eL",
        "outputId": "d4fa2462-e769-4efb-8db3-59a034b263db"
      },
      "execution_count": 3,
      "outputs": [
        {
          "output_type": "stream",
          "name": "stdout",
          "text": [
            "name\n",
            "class\n",
            "topic\n"
          ]
        }
      ]
    },
    {
      "cell_type": "code",
      "source": [
        "for i in d.values():\n",
        "    print(d[i])"
      ],
      "metadata": {
        "colab": {
          "base_uri": "https://localhost:8080/",
          "height": 192
        },
        "id": "c-zRnLOvWKPO",
        "outputId": "5a7477f7-e28a-4337-d6be-864ce156db48"
      },
      "execution_count": 5,
      "outputs": [
        {
          "output_type": "error",
          "ename": "KeyError",
          "evalue": "ignored",
          "traceback": [
            "\u001b[0;31m---------------------------------------------------------------------------\u001b[0m",
            "\u001b[0;31mKeyError\u001b[0m                                  Traceback (most recent call last)",
            "\u001b[0;32m<ipython-input-5-9bbbab0c0ec2>\u001b[0m in \u001b[0;36m<cell line: 1>\u001b[0;34m()\u001b[0m\n\u001b[1;32m      1\u001b[0m \u001b[0;32mfor\u001b[0m \u001b[0mi\u001b[0m \u001b[0;32min\u001b[0m \u001b[0md\u001b[0m\u001b[0;34m.\u001b[0m\u001b[0mvalues\u001b[0m\u001b[0;34m(\u001b[0m\u001b[0;34m)\u001b[0m\u001b[0;34m:\u001b[0m\u001b[0;34m\u001b[0m\u001b[0;34m\u001b[0m\u001b[0m\n\u001b[0;32m----> 2\u001b[0;31m     \u001b[0mprint\u001b[0m\u001b[0;34m(\u001b[0m\u001b[0md\u001b[0m\u001b[0;34m[\u001b[0m\u001b[0mi\u001b[0m\u001b[0;34m]\u001b[0m\u001b[0;34m)\u001b[0m\u001b[0;34m\u001b[0m\u001b[0;34m\u001b[0m\u001b[0m\n\u001b[0m",
            "\u001b[0;31mKeyError\u001b[0m: 'sudh'"
          ]
        }
      ]
    },
    {
      "cell_type": "code",
      "source": [
        ""
      ],
      "metadata": {
        "id": "oUD3VCA0Y3C8"
      },
      "execution_count": null,
      "outputs": []
    }
  ]
}